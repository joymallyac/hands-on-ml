{
 "cells": [
  {
   "cell_type": "markdown",
   "metadata": {},
   "source": [
    "# Todays Lecture: Introduction to Scikit-Learn                       "
   ]
  },
  {
   "cell_type": "markdown",
   "metadata": {},
   "source": [
    "# Topics\n",
    "\n",
    "1. Training a Binary Classifier\n",
    "2. Measuring performance using \n",
    "  - Confusion Matix\n",
    "  - Cross-validation\n",
    "3. Training Models\n",
    "  - Linear Regression\n",
    "  - Logistic Regression\n",
    "4. Support Vector Machines\n",
    "5. Decision Tree Classifiers\n",
    "6. Random Forest"
   ]
  },
  {
   "cell_type": "markdown",
   "metadata": {},
   "source": [
    "# 1. Training a Binary Classifier\n",
    "\n",
    "## 1.1 MNIST Dataset\n",
    "\n",
    "+ 70000 small images (28x28) of digits (0-9) \n",
    "+ Each digit is labeled\n",
    "+ It's been studied so much that it's called the \"Hello World\" of machine learning\n",
    "+ Scikit-Learn downloads this dataset by default.\n",
    "+ Lets fetch the data with scikit-learn"
   ]
  },
  {
   "cell_type": "code",
   "execution_count": 1,
   "metadata": {},
   "outputs": [
    {
     "data": {
      "text/plain": [
       "{'DESCR': 'mldata.org dataset: mnist-original',\n",
       " 'COL_NAMES': ['label', 'data'],\n",
       " 'target': array([0., 0., 0., ..., 9., 9., 9.]),\n",
       " 'data': array([[0, 0, 0, ..., 0, 0, 0],\n",
       "        [0, 0, 0, ..., 0, 0, 0],\n",
       "        [0, 0, 0, ..., 0, 0, 0],\n",
       "        ...,\n",
       "        [0, 0, 0, ..., 0, 0, 0],\n",
       "        [0, 0, 0, ..., 0, 0, 0],\n",
       "        [0, 0, 0, ..., 0, 0, 0]], dtype=uint8)}"
      ]
     },
     "execution_count": 1,
     "metadata": {},
     "output_type": "execute_result"
    }
   ],
   "source": [
    "from sklearn.datasets import fetch_mldata\n",
    "mnist = fetch_mldata('MNIST original')\n",
    "\n",
    "mnist"
   ]
  },
  {
   "cell_type": "code",
   "execution_count": 2,
   "metadata": {},
   "outputs": [
    {
     "data": {
      "text/plain": [
       "((70000, 784), (70000,))"
      ]
     },
     "execution_count": 2,
     "metadata": {},
     "output_type": "execute_result"
    }
   ],
   "source": [
    "X, y = mnist[\"data\"], mnist[\"target\"]\n",
    "X.shape, y.shape"
   ]
  },
  {
   "cell_type": "markdown",
   "metadata": {},
   "source": [
    "##### Why 784?\n",
    "\n",
    "+ Each image is 28x28 pixels in size. Which is 784 pixels in total\n",
    "+ Each pixel can be black(0) to white(255)\n",
    "\n",
    "#### A small sample\n",
    "![](https://upload.wikimedia.org/wikipedia/commons/2/27/MnistExamples.png)"
   ]
  },
  {
   "cell_type": "markdown",
   "metadata": {},
   "source": [
    "## 1.2 Training and Testing\n",
    "\n",
    "We will have to split a dataset into training and testing set before doing anything else. So let's go ahead and do that."
   ]
  },
  {
   "cell_type": "code",
   "execution_count": 5,
   "metadata": {},
   "outputs": [],
   "source": [
    "# Training\n",
    "# --------\n",
    "\n",
    "# First 50k out of 70k datapoints are training\n",
    "X_train = X[:50000]  \n",
    "y_train = y[:50000]\n",
    "\n",
    "# Testing\n",
    "# -------\n",
    "\n",
    "# Last 20k out of 70k are testing set \n",
    "X_test  = X[50000:]  \n",
    "y_test  = y[50000:]"
   ]
  },
  {
   "cell_type": "markdown",
   "metadata": {},
   "source": [
    "+ It's always a good idea to shuffle the training data so as not to bias the classifier. Especially when we do cross-validation (more on that later).\n",
    "\n",
    "**Question: Sometimes shuffling can be very bad idea. Can you think of a situation when?**\n"
   ]
  },
  {
   "cell_type": "code",
   "execution_count": 6,
   "metadata": {},
   "outputs": [],
   "source": [
    "import numpy as np\n",
    "\n",
    "# Create a random permutaion of 0-49999\n",
    "shuffle = np.random.permutation(50000)\n",
    "\n",
    "# Randomize data\n",
    "# --------------\n",
    "X_train = X_train[shuffle]\n",
    "y_train = y_train[shuffle]"
   ]
  },
  {
   "cell_type": "markdown",
   "metadata": {},
   "source": [
    "## 1.3 Your first Binary Classifier in Scikit-Learn\n",
    "\n",
    "+ In a binary classifier, you classify if a test instance belong to one class (True) or not (False).\n",
    "+ For example, let's classify if an image is `0` or not in our MNIST dataset.\n",
    "+ Let's modify our training and testing labels to reflect this.\n"
   ]
  },
  {
   "cell_type": "code",
   "execution_count": 7,
   "metadata": {},
   "outputs": [],
   "source": [
    "y = (y == 0)\n",
    "y_train_0 = (y_train == 0)\n",
    "y_test_0 = (y_test == 0)"
   ]
  },
  {
   "cell_type": "markdown",
   "metadata": {},
   "source": [
    "### Formatting Datasets To work with  Scikit-Learn\n",
    "\n",
    "To format you datasets, use the following format:\n",
    "\n",
    "```\n",
    "Train = list[list]\n",
    "of size m x n\n",
    "Where,\n",
    "  m = number of rows (training samples)\n",
    "  n = number of features (columns)\n",
    "\n",
    "E.g.,\n",
    "\n",
    "  a   b   c\n",
    "[[1,  2,  3],\n",
    " [1,  1,  3],\n",
    " .    .   .\n",
    " .    .   .\n",
    " .    .   .\n",
    " .    .   .\n",
    " .    .   .\n",
    " [3,  5,  6]\n",
    "]\n",
    "\n",
    "Test = list\n",
    "\n",
    "E.g.,\n",
    " class\n",
    "[True,\n",
    " False,\n",
    " True,\n",
    " False,\n",
    " .\n",
    " .\n",
    " .\n",
    " .\n",
    " .\n",
    " True\n",
    "]\n",
    "```"
   ]
  },
  {
   "cell_type": "markdown",
   "metadata": {},
   "source": [
    "### Training a Stochastic Gradient Descent on Scikit-Learn\n",
    "\n",
    "Don't worry about how this algorithm works. We can discuss this offline if you are interested.\n",
    "\n",
    "Let's train a stochastic gradient descent with sklearn on python for the above dataset."
   ]
  },
  {
   "cell_type": "code",
   "execution_count": 8,
   "metadata": {},
   "outputs": [],
   "source": [
    "from sklearn.linear_model.stochastic_gradient import SGDClassifier\n",
    "\n",
    "# Instantiate a classifier\n",
    "# ------------------------\n",
    "clf = SGDClassifier(random_state=0, max_iter=500, tol=1e-6)  \n",
    "# See how we use a random_state parameter. This is the seed. \n",
    "# You want to set this for reproducibility\n",
    "\n",
    "# Fit the data\n",
    "# ------------\n",
    "clf = clf.fit(X_train, y_train_0)\n"
   ]
  },
  {
   "cell_type": "markdown",
   "metadata": {},
   "source": [
    "# 2. Performance measure\n",
    "\n",
    "Before we start predicting, let's discuss how we would go about measuring the performance of a binary classifier.\n",
    "\n",
    "## 2.1 Confusion Matrix\n",
    "\n",
    "Confusion matrices are your best friend when you do supervised learning. They let you compute every thing!\n",
    "\n",
    "Take a look at [this](https://en.wikipedia.org/wiki/Precision_and_recall#Definition_(classification_context)) link.\n",
    "\n",
    "Let's go back a step to our original stochastic gradient classifier with X_train and y_train_0, etc."
   ]
  },
  {
   "cell_type": "markdown",
   "metadata": {},
   "source": [
    "Let's look at how we'd go about doing this with sklearn."
   ]
  },
  {
   "cell_type": "code",
   "execution_count": null,
   "metadata": {},
   "outputs": [],
   "source": [
    "from sklearn.linear_model.stochastic_gradient import SGDClassifier\n",
    "from sklearn.metrics import confusion_matrix\n",
    "\n",
    "# Instantiate a classifier\n",
    "# ------------------------\n",
    "clf = SGDClassifier(random_state=0, max_iter=500, tol=1e-6)  \n",
    "# See how we use a random_state parameter. This is the seed. \n",
    "# You want to set this for reproducibility\n",
    "\n",
    "# Fit the data\n",
    "# ------------\n",
    "clf = clf.fit(X_train, y_train_0)\n",
    "\n",
    "# Predict\n",
    "# -------\n",
    "y_pred = clf.predict(X_test)\n",
    "\n",
    "# Confusion Matrix\n",
    "# ----------------\n",
    "cmat = confusion_matrix(y_test_0, y_pred)\n",
    "cmat"
   ]
  },
  {
   "cell_type": "markdown",
   "metadata": {},
   "source": [
    "### What does the confusion Matrix Look Like?\n",
    "This:\n",
    "```\n",
    "--|-------------|-------------------|------------------|--\n",
    "  |             |  Predicted=False  |   Predicted=True |\n",
    "--|-------------|-------------------|------------------|--\n",
    "  |actual=False |   TRUE NEGATIVE   |   FALSE POSITIVE |\n",
    "--|-------------|-------------------|------------------|--\n",
    "  |actual=True  |   FALSE NEGATIVE  |   TRUE POSITIVE  |\n",
    "--|-------------|-------------------|------------------|--\n",
    "```\n",
    "\n",
    "Once you have this, you can compute everything from [the wikipedia page](https://en.wikipedia.org/wiki/Precision_and_recall#Definition_(classification_context)).\n",
    "\n",
    "E.g,\n",
    "```\n",
    "               TP\n",
    "precision =  -------\n",
    "             TP + FP\n",
    "\n",
    "               TP\n",
    "recall =     -------\n",
    "             TP + FN\n",
    "```\n",
    "\n",
    "### Measuring Precision and Recall"
   ]
  },
  {
   "cell_type": "code",
   "execution_count": null,
   "metadata": {},
   "outputs": [],
   "source": [
    "# Precision\n",
    "# ---------\n",
    "prec = cmat[0,0]/(cmat[0,0]+cmat[0,1])\n",
    "print(\"Precision: {:.2f}\".format(prec))\n",
    "\n",
    "# Recall\n",
    "# ------\n",
    "recall = cmat[0,0]/(cmat[0,0]+cmat[1,0])\n",
    "print(\"Recall: {:.2f}\".format(recall))\n"
   ]
  },
  {
   "cell_type": "markdown",
   "metadata": {},
   "source": [
    "## 2.2 Cross-validation\n",
    "\n",
    "In a k-fold cross-validation: \n",
    " 1. We split the data into \"k\" folds. \n",
    " 2. We train a classifier on \"k-1\" of the folds\n",
    " 3. We test it on the remaining fold.\n",
    " 4. Repeat this until all the k folds have been part of the test set.\n",
    "\n",
    "**Question: When would this be a bad idea?**\n",
    "\n"
   ]
  },
  {
   "cell_type": "code",
   "execution_count": 10,
   "metadata": {},
   "outputs": [
    {
     "name": "stdout",
     "output_type": "stream",
     "text": [
      "Fold 0: Precision = 0.88; Recall = 0.96\n",
      "Fold 1: Precision = 0.92; Recall = 0.98\n",
      "Fold 2: Precision = 0.95; Recall = 0.82\n",
      "Fold 3: Precision = 0.97; Recall = 0.88\n",
      "Fold 4: Precision = 0.96; Recall = 0.93\n"
     ]
    }
   ],
   "source": [
    "from sklearn.linear_model.stochastic_gradient import SGDClassifier\n",
    "from sklearn.model_selection import StratifiedKFold\n",
    "from sklearn.metrics import confusion_matrix\n",
    "from sklearn.base import clone  \n",
    "\n",
    "# Stratification attempts to maintain the realtive ratios\n",
    "# of positive and negative classes in each of folds.\n",
    "# This is very helpful for skewed datasets (read: SE Data)\n",
    "skfolds = StratifiedKFold(n_splits=5, random_state=0)\n",
    "\n",
    "# Create and instance of your classifier\n",
    "clf = SGDClassifier(random_state=0, max_iter=500, tol=1e-6)  \n",
    "\n",
    "fold = 0\n",
    "for train_index, test_index in skfolds.split(X, y):\n",
    "    # Deep copy here, when you do cross-validation, it's always a good idead\n",
    "    # not to mess with the original classifier. \n",
    "    \n",
    "    # We need a \"clean\" classifier for every fold. Otherwise your mixing the\n",
    "    # training and testing data form different folds. That's a no-no.\n",
    "    cloned_clf = clone(clf)\n",
    "\n",
    "    # Training data\n",
    "    # -------------\n",
    "    X_train_folds = X[train_index]\n",
    "    y_train_folds = y[train_index]\n",
    "    \n",
    "    # Testing data\n",
    "    # ------------\n",
    "    X_test_folds = X[test_index]\n",
    "    y_test_folds = y[test_index]\n",
    "    \n",
    "    # Fit a classifier on the training data\n",
    "    # -------------------------------------\n",
    "    cloned_clf.fit(X_train_folds, y_train_folds)\n",
    "    \n",
    "    # Make predictions on a test set\n",
    "    # ------------------------------\n",
    "    y_hat = cloned_clf.predict(X_test_folds)\n",
    "    \n",
    "    # Compute some metrics here. Like Precision, Recall, False Alarm, or what have you.\n",
    "    # ---------------------------------------------------------------------------------\n",
    "    cmat = confusion_matrix(y_test_folds, y_hat)\n",
    "    \n",
    "    # Precision\n",
    "    # ---------\n",
    "    prec = cmat[0,0]/(cmat[0,0]+cmat[0,1])\n",
    "    \n",
    "    # Recall\n",
    "    # ------\n",
    "    recall = cmat[0,0]/(cmat[0,0]+cmat[1,0])\n",
    "    \n",
    "    # Print outputs\n",
    "    # -------------\n",
    "    print(\"Fold {}: Precision = {}; Recall = {}\".format(fold, round(prec, 2), round(recall, 2)))\n",
    "    fold += 1"
   ]
  },
  {
   "cell_type": "markdown",
   "metadata": {},
   "source": [
    "# 3. Training Models\n",
    "\n",
    "## 3.1 Linear Regression\n",
    "\n",
    "+ Given `n` features (x_1, x_2, ..., x_n). Linear regression says:\n",
    "\n",
    "```\n",
    "y_pred = w_0 + w_1 * x_1 + w_2 * x_2 + .... + w_n * x_n\n",
    "```\n",
    "\n",
    "Where, \n",
    "\n",
    "```\n",
    "w_0 = Bias term\n",
    "y_pred = predicted values\n",
    "x_1...x_n = Features\n",
    "w_1...w_n = feature weights\n",
    "```\n",
    "\n",
    "+ Given training data, we try to find the feature weights (w_0...w_n) to minimize the total number of missclassifications\n",
    "  * We do this using a gradient descent\n",
    "  \n",
    "+ Let's generate some linear looking data and see how we could use sklearn for this."
   ]
  },
  {
   "cell_type": "code",
   "execution_count": 11,
   "metadata": {},
   "outputs": [
    {
     "data": {
      "image/png": "[encoded data removed]",
      "text/plain": [
       "<Figure size 540x540 with 1 Axes>"
      ]
     },
     "metadata": {
      "needs_background": "light"
     },
     "output_type": "display_data"
    }
   ],
   "source": [
    "%matplotlib inline\n",
    "\n",
    "from sklearn.linear_model import LinearRegression\n",
    "import numpy as np\n",
    "import matplotlib.pyplot as plt\n",
    "\n",
    "X = 2 * np.random.rand(100, 1)\n",
    "# y = 3x + 4 + gaussian noise\n",
    "y = 4 + 3 * X + np.random.randn(100, 1)\n",
    "\n",
    "# Instantiate model\n",
    "lin_reg = LinearRegression()\n",
    "\n",
    "# Fit data\n",
    "lin_reg = lin_reg.fit(X, y)\n",
    "\n",
    "# Test data = [0, 2]\n",
    "X_test = np.array([\n",
    "    [0], \n",
    "    [2]]\n",
    ") \n",
    "\n",
    "# Predict\n",
    "y_pred = lin_reg.predict(X_test)\n",
    "\n",
    "\n",
    "# Plot\n",
    "plt.figure(figsize=(7.5,7.5))\n",
    "plt.plot(X_test, y_pred, \"r--\")\n",
    "plt.plot(X, y, \"kx\")\n",
    "plt.axis([0,2,0,15])\n",
    "_ = plt.legend(['Predcitions', \"Actual\"])"
   ]
  },
  {
   "cell_type": "markdown",
   "metadata": {},
   "source": [
    "## 3.2 Logistic Regression: A Good Baseline Classifier \n",
    "\n",
    "1. Linear regression won't directly work for binary classification.\n",
    "2. Instead, we map the output of the linear regression (which can be unbounded) to bounded sigmoid function.\n",
    "![](https://i.stack.imgur.com/i0Jkf.png)\n",
    "Where,\n",
    "```\n",
    "z=w_0 + w_1 * x_1 + w_2 * x_2 + .... + w_n * x_n\n",
    "```\n",
    "3. See how when z > 0 then S(z) > 0.5 and when z < 0 then S(z) < 0.5.\n",
    "4. Basically, training involves finding the feature weights (w) that satisifies this. \n",
    "\n",
    "*If you want to know more, we can chat offline.*\n",
    "\n"
   ]
  },
  {
   "cell_type": "markdown",
   "metadata": {},
   "source": [
    "### The IRIS Dataset\n",
    "\n",
    "+ Let's pick a slightly different dataset: Iris.\n",
    "\n",
    "+ Let's load the dataset"
   ]
  },
  {
   "cell_type": "code",
   "execution_count": 12,
   "metadata": {},
   "outputs": [
    {
     "name": "stdout",
     "output_type": "stream",
     "text": [
      "Features:  ['sepal length (cm)', 'sepal width (cm)', 'petal length (cm)', 'petal width (cm)']\n",
      "Classes {0, 1, 2}\n"
     ]
    }
   ],
   "source": [
    "from sklearn import datasets\n",
    "\n",
    "iris = datasets.load_iris()\n",
    "\n",
    "# Features\n",
    "print(\"Features: \", iris['feature_names'])\n",
    "\n",
    "# Classes\n",
    "print(\"Classes\", set(iris['target']))"
   ]
  },
  {
   "cell_type": "markdown",
   "metadata": {},
   "source": [
    "## 3.3 Training a Logistic Regression\n",
    "\n",
    "+ Let's predict for class `2` using Logistic Regression"
   ]
  },
  {
   "cell_type": "code",
   "execution_count": 13,
   "metadata": {},
   "outputs": [],
   "source": [
    "import numpy as np\n",
    "from sklearn import datasets\n",
    "from sklearn.linear_model import LogisticRegression\n",
    "\n",
    "# Load Dataset\n",
    "# ------------\n",
    "iris = datasets.load_iris()\n",
    "\n",
    "# Features\n",
    "# --------\n",
    "X = iris[\"data\"]\n",
    "y = (iris[\"target\"] == 2).astype(np.int)\n",
    "\n",
    "logit_clf = LogisticRegression()\n",
    "_ = logit_clf.fit(X,y)"
   ]
  },
  {
   "cell_type": "markdown",
   "metadata": {},
   "source": [
    "+ Let's look at how the classifier for one feature (petal width) look."
   ]
  },
  {
   "cell_type": "code",
   "execution_count": 14,
   "metadata": {
    "scrolled": false
   },
   "outputs": [
    {
     "data": {
      "image/png": "[encoded data removed]",
      "text/plain": [
       "<Figure size 540x540 with 1 Axes>"
      ]
     },
     "metadata": {
      "needs_background": "light"
     },
     "output_type": "display_data"
    }
   ],
   "source": [
    "%matplotlib inline\n",
    "\n",
    "import numpy as np\n",
    "from sklearn import datasets\n",
    "from sklearn.linear_model import LogisticRegression\n",
    "import matplotlib.pyplot as plt\n",
    "\n",
    "# Load Dataset\n",
    "# ------------\n",
    "iris = datasets.load_iris()\n",
    "\n",
    "# Features\n",
    "# --------\n",
    "X = iris[\"data\"][:,3:] # Only feature 3 (the petal width)\n",
    "y = (iris[\"target\"] == 2).astype(np.int)  # Predict for class 2\n",
    "\n",
    "# Instantiate\n",
    "# -----------\n",
    "logit_clf = LogisticRegression()\n",
    "\n",
    "# Fit classifier\n",
    "# --------------\n",
    "logit_clf = logit_clf.fit(X,y)\n",
    "\n",
    "# Generate a test dataset\n",
    "# -----------------------\n",
    "X_test = np.linspace(0,3,1000).reshape(-1,1)  # Generate 1000 values between 0 and 3\n",
    "\n",
    "# Obtain perdiction probabilities\n",
    "# -------------------------------\n",
    "y_prob = logit_clf.predict_proba(X_test)\n",
    "\n",
    "# Plot the probabilities\n",
    "# ----------------------\n",
    "plt.figure(figsize=(7.5,7.5))\n",
    "plt.ylim(0,1)\n",
    "plt.plot(X_test, y_prob[:,1], \"k-\", label=\"Class 2\")\n",
    "plt.plot(X_test, y_prob[:,0], \"r--\", label=\"Class 0\")\n",
    "plt.ylabel(\"Probability\")\n",
    "plt.xlabel(\"Petal Width (cm)\")\n",
    "plt.plot([1.615], [0.5], marker='o', markersize=15, color=\"b\", label=\"Decision hyperplane\")\n",
    "plt.stem([1.615], [0.5])\n",
    "_ = plt.legend()"
   ]
  },
  {
   "cell_type": "markdown",
   "metadata": {},
   "source": [
    "+ Decision hyperplane is actual n-dimensional. \n",
    "    - Where n in the number of features\n",
    "    - Here it a 1-D point at `petal width = 1.615`.\n",
    "    - We have 1-feature that's why.\n",
    "+ See how at `petal width = 1.615` the probabilities of positive and negative class swap `probability>0.5`?\n",
    "+ Now if we were to call predict for two test cases on either side of the hyperplane, we should get the correct classes.\n",
    "+ Let's make sure:"
   ]
  },
  {
   "cell_type": "code",
   "execution_count": 15,
   "metadata": {},
   "outputs": [
    {
     "name": "stdout",
     "output_type": "stream",
     "text": [
      "Test_pos True\n",
      "Test_neg False\n"
     ]
    }
   ],
   "source": [
    "test_pos = [2.0] # True\n",
    "test_neg = [1.0] # False\n",
    "\n",
    "test = [test_pos, test_neg]\n",
    "\n",
    "pred = logit_clf.predict(test)\n",
    "\n",
    "print(\"Test_pos\", pred[0] == 1)\n",
    "print(\"Test_neg\", pred[1] == 1)\n"
   ]
  },
  {
   "cell_type": "markdown",
   "metadata": {},
   "source": [
    "# 4. SVM: Great for Text Mining!\n",
    "\n",
    "### Good and Bad Decision Hyperplanes\n",
    "+ Let's say we are looking at 2 dimensions `x1` and `x2`.\n",
    "+ In the below image on the left all three are valid 2-hyperplanes.\n",
    "  - **Q. What is wrong with these hyperplanes on the left?**\n",
    "<img src=\"https://www.safaribooksonline.com/library/view/python-deeper-insights/9781787128576/graphics/3547_03_07.jpg\" alt=\"Drawing\" style=\"width: 1800px;\"/>\n",
    "\n",
    "\n",
    "### How SVM works\n",
    "+ Intuition: Instead of drawing *one* line, why don't we draw *two* lines (aka. margins)?\n",
    "+ Think roads.\n",
    "+ The actual hyperplane will be in between these 2 margins.\n",
    "+ SVM works by looking for a hyperplane that maximizes the *margin* (think: road width) between the two classes."
   ]
  },
  {
   "cell_type": "markdown",
   "metadata": {},
   "source": [
    "## 4.1 Training a Linear SVM in scikit-learn\n",
    "\n",
    "Let's go ahead and train a linear SVM in sklearn"
   ]
  },
  {
   "cell_type": "code",
   "execution_count": 16,
   "metadata": {},
   "outputs": [
    {
     "name": "stdout",
     "output_type": "stream",
     "text": [
      "True\n",
      "False\n"
     ]
    }
   ],
   "source": [
    "import numpy as np\n",
    "from sklearn import datasets\n",
    "from sklearn.svm import LinearSVC\n",
    "import matplotlib.pyplot as plt\n",
    "\n",
    "iris = datasets.load_iris()\n",
    "\n",
    "# Training\n",
    "# --------\n",
    "# Lets use 2 features\n",
    "\n",
    "X_train = iris['data'][:, :2]  # All rows, columns 1, 2.\n",
    "y_train = (iris[\"target\"] == 2).astype(np.int)  # Predict for class 2\n",
    "\n",
    "# Instantiate \n",
    "# -----------\n",
    "\n",
    "svm_clf = LinearSVC(C=1, loss=\"hinge\")\n",
    "#                   =================\n",
    "#                    Hyperparameters\n",
    "\n",
    "\n",
    "# Fit the data to the classifier\n",
    "# ------------------------------\n",
    "svm_clf = svm_clf.fit(X_train, y_train)\n",
    "\n",
    "# Predict for a test set\n",
    "# ----------------------\n",
    "\n",
    "X_test = [\n",
    "    [5.7, 1.9],      # <----- Test instance 1\n",
    "    [1.0, 0.1]       # <----- Test instance 2\n",
    "]\n",
    "\n",
    "pred = svm_clf.predict(X_test).astype(np.bool)\n",
    "print(\"\\n\".join(map(str, pred)))"
   ]
  },
  {
   "cell_type": "markdown",
   "metadata": {},
   "source": [
    "## Plot for fun"
   ]
  },
  {
   "cell_type": "code",
   "execution_count": 17,
   "metadata": {},
   "outputs": [
    {
     "data": {
      "image/png": "[encoded data removed]",
      "text/plain": [
       "<Figure size 432x288 with 1 Axes>"
      ]
     },
     "metadata": {
      "needs_background": "light"
     },
     "output_type": "display_data"
    }
   ],
   "source": [
    "import numpy as np\n",
    "import matplotlib.pyplot as plt\n",
    "from sklearn import svm, datasets\n",
    "\n",
    "\n",
    "def make_meshgrid(x, y, h=.02):\n",
    "    \"\"\"Create a mesh of points to plot in\n",
    "\n",
    "    Parameters\n",
    "    ----------\n",
    "    x: data to base x-axis meshgrid on\n",
    "    y: data to base y-axis meshgrid on\n",
    "    h: stepsize for meshgrid, optional\n",
    "\n",
    "    Returns\n",
    "    -------\n",
    "    xx, yy : ndarray\n",
    "    \"\"\"\n",
    "    x_min, x_max = x.min() - 1, x.max() + 1\n",
    "    y_min, y_max = y.min() - 1, y.max() + 1\n",
    "    xx, yy = np.meshgrid(np.arange(x_min, x_max, h),\n",
    "                         np.arange(y_min, y_max, h))\n",
    "    return xx, yy\n",
    "\n",
    "\n",
    "def plot_contours(ax, clf, xx, yy, **params):\n",
    "    \"\"\"Plot the decision boundaries for a classifier.\n",
    "\n",
    "    Parameters\n",
    "    ----------\n",
    "    ax: matplotlib axes object\n",
    "    clf: a classifier\n",
    "    xx: meshgrid ndarray\n",
    "    yy: meshgrid ndarray\n",
    "    params: dictionary of params to pass to contourf, optional\n",
    "    \"\"\"\n",
    "    Z = clf.predict(np.c_[xx.ravel(), yy.ravel()])\n",
    "    Z = Z.reshape(xx.shape)\n",
    "    out = ax.contourf(xx, yy, Z, **params)\n",
    "    return out\n",
    "\n",
    "\n",
    "# import some data to play with\n",
    "iris = datasets.load_iris()\n",
    "# Take the first two features. We could avoid this by using a two-dim dataset\n",
    "X = iris.data[:, :2]\n",
    "y = (iris[\"target\"] == 0).astype(np.int)  # Predict for class 0\n",
    "\n",
    "# we create an instance of SVM and fit out data. We do not scale our\n",
    "# data since we want to plot the support vectors\n",
    "C = 1.0  # SVM regularization parameter\n",
    "models = svm.LinearSVC(C=1)\n",
    "models = clf.fit(X, y)\n",
    "\n",
    "# title for the plots\n",
    "title = 'SVC with linear kernel'\n",
    "\n",
    "# Set-up 2x2 grid for plotting.\n",
    "fig, ax = plt.subplots(1, 1)\n",
    "\n",
    "X0, X1 = X[:, 0], X[:, 1]\n",
    "xx, yy = make_meshgrid(X0, X1)\n",
    "\n",
    "plot_contours(ax, models, xx, yy, cmap=plt.cm.coolwarm, alpha=0.6)\n",
    "ax.scatter(X0, X1, c=y, cmap=plt.cm.coolwarm, s=20, edgecolors='k')\n",
    "ax.set_xlim(4, 8)\n",
    "ax.set_ylim(2.65, 3.85)\n",
    "ax.set_xlabel('Sepal length')\n",
    "ax.set_ylabel('Sepal width')\n",
    "ax.set_title(title)\n",
    "\n",
    "plt.show()"
   ]
  },
  {
   "cell_type": "markdown",
   "metadata": {},
   "source": [
    "# Note\n",
    "+ There's a **LOT** more to SVM:\n",
    "  - Hyperparameters (we used C=1 and loss=\"hinge\", there more)\n",
    "  - Kernels (Linear, Polynomial, RBF, etc.)\n",
    "  - Soft Margins\n",
    "+ If you are doing an NLP project, it would be very helpful to understand these!\n",
    "+ That said, we have seen that a simple Linear SVM works great in NLP."
   ]
  },
  {
   "cell_type": "markdown",
   "metadata": {},
   "source": [
    "# 5. Decision Trees\n",
    "\n",
    "+ We already know how decision trees work. So let's skip the theory.\n",
    "\n",
    "## 5.1 Building a Decision Tree with Scikit-Learn"
   ]
  },
  {
   "cell_type": "code",
   "execution_count": null,
   "metadata": {},
   "outputs": [],
   "source": [
    "from sklearn.datasets import load_iris\n",
    "from sklearn.tree import DecisionTreeClassifier\n",
    "\n",
    "iris = load_iris()\n",
    "X = iris.data[:, :2]\n",
    "y = (iris.target == 0).astype(np.int)\n",
    "\n",
    "# Instantiate Classifier\n",
    "# ----------------------\n",
    "dtree_clf = DecisionTreeClassifier(   \n",
    "            criterion = 'entropy',    #\n",
    "            max_depth = 2,            # \n",
    "            min_samples_split = 10,   #   <----- Hyperparameters\n",
    "            min_samples_leaf = 5,     # \n",
    "            max_leaf_nodes = 20)      #  \n",
    "\n",
    "# Fit Training Data\n",
    "# -----------------\n",
    "dtree_clf = dtree_clf.fit(X, y)"
   ]
  },
  {
   "cell_type": "markdown",
   "metadata": {},
   "source": [
    "## Visualizing the Tree\n",
    "\n",
    "+ We can use a package called [graphviz](http://graphviz.org) to visualize"
   ]
  },
  {
   "cell_type": "code",
   "execution_count": 21,
   "metadata": {},
   "outputs": [],
   "source": [
    "from sklearn.datasets import load_iris\n",
    "from sklearn.tree import export_graphviz\n",
    "from sklearn.tree import DecisionTreeClassifier\n",
    "\n",
    "iris = load_iris()\n",
    "X = iris.data[:, :2]\n",
    "y = (iris.target == 0).astype(np.int)\n",
    "\n",
    "# Instantiate Classifier\n",
    "# ----------------------\n",
    "dtree_clf = DecisionTreeClassifier(   \n",
    "            criterion = 'entropy',    #\n",
    "            max_depth = 2,            # \n",
    "            min_samples_split = 10,   #   <----- Hyperparameters\n",
    "            min_samples_leaf = 5,     # \n",
    "            max_leaf_nodes = 20)      #  \n",
    "\n",
    "# Fit Training Data\n",
    "# -----------------\n",
    "dtree_clf = dtree_clf.fit(X, y)\n",
    "\n",
    "export_graphviz(dtree_clf,\n",
    "               out_file = 'iris_dtree.dot',\n",
    "               feature_names = iris.feature_names[:2],\n",
    "               class_names = ['0', '1', '2'],\n",
    "               rounded = True,\n",
    "               filled = True)"
   ]
  },
  {
   "cell_type": "code",
   "execution_count": 23,
   "metadata": {},
   "outputs": [],
   "source": [
    "%%sh\n",
    "\n",
    "dot -Tpng iris_dtree.dot -o iris_dtree.png"
   ]
  },
  {
   "cell_type": "markdown",
   "metadata": {},
   "source": [
    "## Predicting and Estimating class probabilities"
   ]
  },
  {
   "cell_type": "code",
   "execution_count": 27,
   "metadata": {},
   "outputs": [
    {
     "name": "stdout",
     "output_type": "stream",
     "text": [
      "Test:  [50, 15]\n",
      "Predicted:  False\n",
      "Probabilites: \n",
      "\t True=0.38\n",
      "\tFalse=0.62 \n"
     ]
    }
   ],
   "source": [
    "from sklearn.datasets import load_iris\n",
    "from sklearn.tree import DecisionTreeClassifier\n",
    "\n",
    "iris = load_iris()\n",
    "X = iris.data[:, :2]\n",
    "y = (iris.target == 0).astype(np.int)\n",
    "\n",
    "# Instantiate Classifier\n",
    "# ----------------------\n",
    "dtree_clf = DecisionTreeClassifier(\n",
    "            criterion = 'entropy',    #\n",
    "            max_depth = 2,            # \n",
    "            min_samples_split = 10,   #   <----- Hyperparameters\n",
    "            min_samples_leaf = 5,     # \n",
    "            max_leaf_nodes = 20)      #  \n",
    "\n",
    "# Fit Training Data\n",
    "# -----------------\n",
    "dtree_clf = dtree_clf.fit(X, y)\n",
    "\n",
    "# Generate some test data\n",
    "# -----------------------\n",
    "X_test = [[50, 15]]\n",
    "\n",
    "# Predict\n",
    "# -------\n",
    "pred = dtree_clf.predict(X_test)\n",
    "\n",
    "# Predict Probablity\n",
    "# ------------------\n",
    "pred_prob = dtree_clf.predict_proba(X_test)\n",
    "\n",
    "# Print\n",
    "# -----\n",
    "print(\"Test: \", X_test[0])\n",
    "print(\"Predicted: \", bool(pred[0]==0))\n",
    "print(\"Probabilites: \\n\\t True={}\\n\\tFalse={} \".format(round(pred_prob[0][0], 2), round(pred_prob[0][1], 2)))"
   ]
  },
  {
   "cell_type": "markdown",
   "metadata": {},
   "source": [
    "# 6. Random Forests: Great in SE Datasets!\n",
    "\n",
    "+ When in doubt, use Random Forests for software engineering data. \n",
    "+ It seems to work very well.\n",
    "\n",
    "## How does it work?\n",
    "\n",
    "+ Instead of building one decision tree, build `K` decision trees.\n",
    "+ Build trees on diffrent subsets of *both rows and columns* of the training data.\n",
    "+ Then for a test instance, \n",
    "    - Ask each of the `K` trees what the predictions are.\n",
    "    - Return the *mode* of those predictions.\n",
    "    - **Q. What is mode?**\n",
    "        - `array = [1,1,1,0,0]` --> Three 1's and Two 0's ---> mode is 1\n",
    "\n",
    "### Random Forests in Scikit-Learn\n",
    "+ You probably know the drill by now. So let's get to it. "
   ]
  },
  {
   "cell_type": "code",
   "execution_count": null,
   "metadata": {},
   "outputs": [],
   "source": [
    "from sklearn.ensemble import RandomForestClassifier\n",
    "from sklearn.datasets import load_iris\n",
    "\n",
    "# Load data\n",
    "# ---------\n",
    "iris = load_iris()\n",
    "X = iris.data[:, :2]\n",
    "y = (iris.target == 0).astype(np.int)\n",
    "\n",
    "# Instantiate Classifier\n",
    "# ----------------------\n",
    "rf_clf = RandomForestClassifier(random_state=0,     # Random seed must be set!\n",
    "                                n_estimators=10,    # Number of decision trees to build\n",
    "                                max_leaf_nodes=16,  # Maximum number of leaf nodes\n",
    "                                n_jobs = -1)        # Use all the cores to build the trees\n",
    "\n",
    "# Fit Training Data\n",
    "# -----------------\n",
    "rf_clf = rf_clf.fit(X, y)\n",
    "\n",
    "# Generate some test data\n",
    "# -----------------------\n",
    "X_test = [[50, 15]]\n",
    "\n",
    "# Predict\n",
    "# -------\n",
    "pred = rf_clf.predict(X_test)\n",
    "\n",
    "# Predict Probablity\n",
    "# ------------------\n",
    "pred_prob = rf_clf.predict_proba(X_test)\n",
    "\n",
    "# Print\n",
    "# -----\n",
    "print(\"Test: \", X_test[0])\n",
    "print(\"Predicted: \", bool(pred[0]==0))\n",
    "print(\"Probabilites: \\n\\t True={}\\n\\tFalse={} \".format(round(pred_prob[0][0], 2), round(pred_prob[0][1], 2)))"
   ]
  },
  {
   "cell_type": "markdown",
   "metadata": {},
   "source": [
    "## Some caveats with Random Forests in Scikit-Learn\n",
    "\n",
    "+ **IMPORTANT: The random seed is not set by default. Don't forget to set this with `random_state=0`.**\n",
    "+ Some hyperparamters are not the same as decision tree classifier.\n",
    "----\n",
    "# On Thursday:\n",
    "\n",
    "1. Multiprocessing in Python\n",
    "2. NLTK\n",
    "3. Gensim"
   ]
  }
 ],
 "metadata": {
  "kernelspec": {
   "display_name": "Python 3",
   "language": "python",
   "name": "python3"
  },
  "language_info": {
   "codemirror_mode": {
    "name": "ipython",
    "version": 3
   },
   "file_extension": ".py",
   "mimetype": "text/x-python",
   "name": "python",
   "nbconvert_exporter": "python",
   "pygments_lexer": "ipython3",
   "version": "3.6.5"
  }
 },
 "nbformat": 4,
 "nbformat_minor": 2
}
